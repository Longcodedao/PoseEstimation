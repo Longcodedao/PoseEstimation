{
 "cells": [
  {
   "cell_type": "code",
   "execution_count": 5,
   "id": "1e51c1c1-eab4-4da8-a405-ef94b33f0b62",
   "metadata": {},
   "outputs": [
    {
     "name": "stdout",
     "output_type": "stream",
     "text": [
      "/\n",
      "//center\n",
      "Dataset shape: (22246, 2)\n",
      "Dataset dtype: float64\n",
      "//imgname\n",
      "Dataset shape: (22246,)\n",
      "Dataset dtype: |S13\n",
      "//index\n",
      "Dataset shape: (22246,)\n",
      "Dataset dtype: int64\n",
      "//name\n",
      "Dataset shape: ()\n",
      "Dataset dtype: object\n",
      "//name_\n",
      "Dataset shape: ()\n",
      "Dataset dtype: |S4\n",
      "//normalize\n",
      "Dataset shape: (22246,)\n",
      "Dataset dtype: float64\n",
      "//part\n",
      "Dataset shape: (22246, 16, 2)\n",
      "Dataset dtype: float64\n",
      "//person\n",
      "Dataset shape: (22246,)\n",
      "Dataset dtype: int64\n",
      "//scale\n",
      "Dataset shape: (22246,)\n",
      "Dataset dtype: float64\n",
      "//torsoangle\n",
      "Dataset shape: (22246,)\n",
      "Dataset dtype: float64\n",
      "//visible\n",
      "Dataset shape: (22246, 16)\n",
      "Dataset dtype: float64\n"
     ]
    }
   ],
   "source": [
    "import h5py \n",
    "\n",
    "def print_h5py_info(obj, name):\n",
    "    \"\"\"\n",
    "    Function to recursively print information about HDF5 file objects.\n",
    "    \"\"\"\n",
    "    print(name)\n",
    "    if isinstance(obj, h5py.Group):\n",
    "        for key in obj.keys():\n",
    "            print_h5py_info(obj[key], name + '/' + key)\n",
    "    elif isinstance(obj, h5py.Dataset):\n",
    "        print(f'Dataset shape: {obj.shape}')\n",
    "        print(f'Dataset dtype: {obj.dtype}')\n",
    "        # Print dataset attributes\n",
    "        for attr_name, attr_value in obj.attrs.items():\n",
    "            print(f'Attribute: {attr_name}, Value: {attr_value}')\n",
    "    elif isinstance(obj, h5py.AttributeManager):\n",
    "        # Print attributes of a group\n",
    "        for attr_name, attr_value in obj.items():\n",
    "            print(f'Attribute: {attr_name}, Value: {attr_value}')\n",
    "\n",
    "\n",
    "file = './train.h5'\n",
    "with h5py.File(file, 'r') as f:\n",
    "    print_h5py_info(f, '/')"
   ]
  },
  {
   "cell_type": "code",
   "execution_count": 9,
   "id": "dc978048-3d2c-4cd5-ad8e-44e6aadf0dcd",
   "metadata": {},
   "outputs": [
    {
     "name": "stdout",
     "output_type": "stream",
     "text": [
      "[[[ 620.  394.]\n",
      "  [ 616.  269.]\n",
      "  [ 573.  185.]\n",
      "  ...\n",
      "  [ 692.  185.]\n",
      "  [ 693.  240.]\n",
      "  [ 688.  313.]]\n",
      "\n",
      " [[ 895.  293.]\n",
      "  [ 910.  279.]\n",
      "  [ 945.  223.]\n",
      "  ...\n",
      "  [ 924.  206.]\n",
      "  [1013.  203.]\n",
      "  [ 955.  263.]]\n",
      "\n",
      " [[   0.    0.]\n",
      "  [   0.    0.]\n",
      "  [ 806.  543.]\n",
      "  ...\n",
      "  [ 719.  299.]\n",
      "  [ 711.  516.]\n",
      "  [ 545.  466.]]\n",
      "\n",
      " ...\n",
      "\n",
      " [[1038.  656.]\n",
      "  [ 950.  504.]\n",
      "  [ 903.  328.]\n",
      "  ...\n",
      "  [ 729.  220.]\n",
      "  [ 704.  332.]\n",
      "  [ 675.  269.]]\n",
      "\n",
      " [[ 562.  617.]\n",
      "  [ 558.  539.]\n",
      "  [ 553.  452.]\n",
      "  ...\n",
      "  [ 490.  378.]\n",
      "  [ 470.  411.]\n",
      "  [ 461.  414.]]\n",
      "\n",
      " [[ 496.  377.]\n",
      "  [ 466.  322.]\n",
      "  [ 510.  278.]\n",
      "  ...\n",
      "  [ 466.  251.]\n",
      "  [ 436.  293.]\n",
      "  [ 410.  325.]]]\n"
     ]
    }
   ],
   "source": [
    "with h5py.File(file, 'r') as f:\n",
    "    print(f['part'][:])"
   ]
  },
  {
   "cell_type": "code",
   "execution_count": 11,
   "id": "9446b504-1b63-44b6-99fd-fb0b504f81a1",
   "metadata": {},
   "outputs": [
    {
     "name": "stdout",
     "output_type": "stream",
     "text": [
      "[1. 1. 1. 0. 1. 1. 0. 1. 1. 1. 1. 1. 1. 1. 1. 1.]\n"
     ]
    }
   ],
   "source": [
    "with h5py.File(file, 'r') as f:\n",
    "    print(f['visible'][0])"
   ]
  },
  {
   "cell_type": "code",
   "execution_count": null,
   "id": "d36e39d2-82fe-4fe0-a2b1-aaba742b2eda",
   "metadata": {},
   "outputs": [],
   "source": []
  }
 ],
 "metadata": {
  "kernelspec": {
   "display_name": "Python 3 (ipykernel)",
   "language": "python",
   "name": "python3"
  },
  "language_info": {
   "codemirror_mode": {
    "name": "ipython",
    "version": 3
   },
   "file_extension": ".py",
   "mimetype": "text/x-python",
   "name": "python",
   "nbconvert_exporter": "python",
   "pygments_lexer": "ipython3",
   "version": "3.10.11"
  }
 },
 "nbformat": 4,
 "nbformat_minor": 5
}
